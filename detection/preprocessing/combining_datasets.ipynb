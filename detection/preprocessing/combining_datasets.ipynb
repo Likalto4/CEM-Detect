{
 "cells": [
  {
   "cell_type": "code",
   "execution_count": 1,
   "metadata": {},
   "outputs": [],
   "source": [
    "# add repo path to the system path\n",
    "from pathlib import Path\n",
    "import os, sys\n",
    "repo_path= Path.cwd().resolve()\n",
    "while '.gitignore' not in os.listdir(repo_path): # while not in the root of the repo\n",
    "    repo_path = repo_path.parent #go up one level\n",
    "sys.path.insert(0,str(repo_path)) if str(repo_path) not in sys.path else None\n",
    "\n",
    "os.environ['CUDA_DEVICE_ORDER']='PCI_BUS_ID'\n",
    "os.environ['CUDA_VISIBLE_DEVICES']='0'"
   ]
  },
  {
   "cell_type": "code",
   "execution_count": 2,
   "metadata": {},
   "outputs": [],
   "source": [
    "import pandas as pd\n",
    "import shutil"
   ]
  },
  {
   "cell_type": "markdown",
   "metadata": {},
   "source": [
    "Combining a real dataset with a synthetic dataset"
   ]
  },
  {
   "cell_type": "code",
   "execution_count": 3,
   "metadata": {},
   "outputs": [
    {
     "name": "stdout",
     "output_type": "stream",
     "text": [
      "The orignal length of the training set is 312\n",
      "The length of the synthetic training set is 415\n"
     ]
    }
   ],
   "source": [
    "synthetic_dir = repo_path / 'generation/inpainting/data/split_1' / f'improved_normal' #<----- change\n",
    "\n",
    "original_training_metadata = pd.read_csv(repo_path / 'data/CDD-CESM/metadata/bboxes/split_1/train_set.csv')\n",
    "synt_trianing_metadata = pd.read_csv(synthetic_dir / 'metadata.csv')\n",
    "print(f'The orignal length of the training set is {len(original_training_metadata)}')\n",
    "print(f'The length of the synthetic training set is {len(synt_trianing_metadata)}')\n",
    "\n",
    "combined_metadata = pd.concat([original_training_metadata, synt_trianing_metadata], ignore_index=True)\n",
    "combined_metadata.sort_values(by='patient_id', inplace=True)\n",
    "\n",
    "# create copy of all images in a new dir\n",
    "real_imdir = repo_path / 'data/CDD-CESM/images/substracted'\n",
    "synthetic_imdir = synthetic_dir / 'images'\n",
    "new_dir = repo_path / 'detection/preprocessing/data/combined_datasets/split_1/improved_augmentation' #<----- change\n",
    "(new_dir / 'images').mkdir(parents=True, exist_ok=True)\n",
    "\n",
    "combined_metadata.to_csv(new_dir / 'metadata.csv', index=False)\n",
    "for i, row in original_training_metadata.iterrows():\n",
    "    original_path = real_imdir / (row['image_name'].replace(' ', '') + '.jpg') # remove spaces from the filename\n",
    "    shutil.copy(original_path, new_dir / 'images' / original_path.name)\n",
    "for i, row in synt_trianing_metadata.iterrows():\n",
    "    original_path = synthetic_imdir / (row['image_name'].replace(' ', '') + '.jpg') # remove spaces from the filename\n",
    "    shutil.copy(original_path, new_dir / 'images' / original_path.name)\n",
    "    "
   ]
  }
 ],
 "metadata": {
  "kernelspec": {
   "display_name": "detectron-new",
   "language": "python",
   "name": "python3"
  },
  "language_info": {
   "codemirror_mode": {
    "name": "ipython",
    "version": 3
   },
   "file_extension": ".py",
   "mimetype": "text/x-python",
   "name": "python",
   "nbconvert_exporter": "python",
   "pygments_lexer": "ipython3",
   "version": "3.10.13"
  }
 },
 "nbformat": 4,
 "nbformat_minor": 2
}
