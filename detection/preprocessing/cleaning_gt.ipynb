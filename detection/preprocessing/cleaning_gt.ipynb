{
 "cells": [
  {
   "cell_type": "code",
   "execution_count": 8,
   "metadata": {},
   "outputs": [],
   "source": [
    "# add repo path to the system path\n",
    "from pathlib import Path\n",
    "import os, sys\n",
    "repo_path= Path.cwd().resolve()\n",
    "while '.gitignore' not in os.listdir(repo_path): # while not in the root of the repo\n",
    "    repo_path = repo_path.parent #go up one level\n",
    "sys.path.insert(0,str(repo_path)) if str(repo_path) not in sys.path else None\n",
    "\n",
    "os.environ['CUDA_DEVICE_ORDER']='PCI_BUS_ID'\n",
    "os.environ['CUDA_VISIBLE_DEVICES']='0'\n",
    "\n",
    "import numpy as np\n",
    "import pandas as pd\n",
    "import torch\n",
    "from detectron2.structures import pairwise_iou, boxes"
   ]
  },
  {
   "cell_type": "markdown",
   "metadata": {},
   "source": [
    "Some cases with mass-like lesion have bboxes included inside of other bboxes.<br>\n",
    "This is due ot the definition we used for the bboxes, as well as the level of detail for several annotations.<br>\n",
    "- For instance, in some cases, polylines was annotated, resulting in a well defined segementation masks, but redundant bboxes.<br>\n",
    "\n",
    "To account for this problem, we decied to restrict the bboxes count per instance to eliminate two specific cases of bboxes:\n",
    "1. Bboxes that are included inside of other bboxes.\n",
    "    If a bbox is completely included inside of another bbox, we will remove the smaller bbox.\n",
    "2. Bboxes that are very similar to other bboxes.\n",
    "    If a bbox has an IoU with another bbox greater than <u> a threshold</u>, we will remove the smaller bbox.<br>\n",
    "    The threshold should be defined by visaul inspection, but an initial value of 0.6 was proposed.\n"
   ]
  },
  {
   "cell_type": "code",
   "execution_count": 17,
   "metadata": {},
   "outputs": [
    {
     "name": "stdout",
     "output_type": "stream",
     "text": [
      "The original full mass-like lesions dataframe has 595 potential lesions.\n",
      "This represents a number of patients of 131\n",
      "This corresponds to a number of images of 243\n"
     ]
    }
   ],
   "source": [
    "# data source\n",
    "im_dir = repo_path / 'data/CDD-CESM/images/substracted'\n",
    "bbox_dataframe = pd.read_csv(repo_path / 'data/CDD-CESM/masks/bbox_CESM.csv')\n",
    "print(f'The original full mass-like lesions dataframe has {bbox_dataframe.shape[0]} potential lesions.')\n",
    "print(f'This represents a number of patients of {bbox_dataframe[\"patient_id\"].nunique()}')\n",
    "print(f'This corresponds to a number of images of {bbox_dataframe[\"image_name\"].nunique()}')"
   ]
  },
  {
   "cell_type": "markdown",
   "metadata": {},
   "source": [
    "Cleaning"
   ]
  },
  {
   "cell_type": "code",
   "execution_count": 129,
   "metadata": {},
   "outputs": [],
   "source": [
    "def small_box_removal(bboxes):\n",
    "    \"\"\"remove small bbox if it is completely inside another bbox\n",
    "\n",
    "    Args:\n",
    "        bboxes (list): list of bboxes\n",
    "\n",
    "    Returns:\n",
    "        boxes.Boxes: list of bboxes without the small ones\n",
    "    \"\"\"\n",
    "    # sort bboxes by area\n",
    "    bboxes = sorted(bboxes, key=lambda x: (x[2]-x[0])*(x[3]-x[1]), reverse=True)\n",
    "    # remove small bboxes\n",
    "    for i in range(len(bboxes)-1):\n",
    "        for j in range(i+1, len(bboxes)):\n",
    "            if (bboxes[i][0]<=bboxes[j][0] and bboxes[i][1]<=bboxes[j][1] and bboxes[i][2]>=bboxes[j][2] and bboxes[i][3]>=bboxes[j][3]):\n",
    "                bboxes[j] = [0, 0, 0, 0]\n",
    "    return boxes.Boxes([bbox for bbox in bboxes if bbox!=[0, 0, 0, 0]])\n",
    "\n",
    "def remove_similar_bboxes(bboxes, iou_threshold=0.5):\n",
    "    \"\"\"remove boxes that are similar to each other base on the iou_threshold.\n",
    "    The largest box is kept and the smaller one is removed.\n",
    "\n",
    "    Args:\n",
    "        bboxes (boxes.Boxes): box object from detectron2\n",
    "        iou_threshold (float, optional): iou threshold, to define if a box is similar to another. Defaults to 0.5.\n",
    "\n",
    "    Returns:\n",
    "        boxes.Boxes: list of bboxes without the similar ones\n",
    "    \"\"\"\n",
    "    # order bboxes per area, largest first, if they are not ordered\n",
    "    bboxes_ex = np.asanyarray(sorted(bboxes, key=lambda x: (x[2]-x[0])*(x[3]-x[1]), reverse=True))\n",
    "    bboxes_ex = boxes.Boxes(bboxes_ex)\n",
    "    list_bbox_id = list(range(len(bboxes_ex)))\n",
    "    # comoute iou\n",
    "    iou = pairwise_iou(bboxes_ex, bboxes_ex)\n",
    "    iou_upper = torch.triu(iou, diagonal=1)\n",
    "    for i in range(iou_upper.shape[0]):\n",
    "        for j in range(iou_upper.shape[1]):\n",
    "            if iou_upper[i, j]>iou_threshold and i!=j:\n",
    "                # print(f'iou between {i} and {j} is {iou_upper[i, j]}')\n",
    "                # remove the smaller bbox from the list, because they are ordered, that is the one with the smaller index\n",
    "                list_bbox_id.remove(j) if j in list_bbox_id else None\n",
    "\n",
    "    return bboxes_ex[list_bbox_id]"
   ]
  },
  {
   "cell_type": "code",
   "execution_count": 132,
   "metadata": {},
   "outputs": [],
   "source": [
    "# saving cases index\n",
    "saving_index = []\n",
    "\n",
    "# loop over images\n",
    "for im_name in bbox_dataframe['image_name'].unique():\n",
    "\n",
    "\n",
    "    im_bboxes = bbox_dataframe[bbox_dataframe['image_name']==im_name]\n",
    "    # get all regions bboxes\n",
    "    bboxes_info = [eval(bbox) for bbox in im_bboxes['bbox']]\n",
    "    gt_bboxes = [[bbox[0], bbox[1], bbox[0]+bbox[2], bbox[1]+bbox[3]] for bbox in bboxes_info] # convert to x1, y1, x2, y2\n",
    "    gt_bboxes = small_box_removal(gt_bboxes)\n",
    "    gt_bboxes = remove_similar_bboxes(gt_bboxes, iou_threshold=0.3)\n",
    "    # extract cases index where the gt_is preserved\n",
    "    if len(gt_bboxes)!=len(im_bboxes):\n",
    "        # print(f'Image: {im_name}')\n",
    "        # print(f'This case has been corrected: {len(im_bboxes)} -> {len(gt_bboxes)}')\n",
    "        \n",
    "        for i, possible_box in im_bboxes.iterrows():\n",
    "            if eval(possible_box['bbox'])[0] in gt_bboxes.tensor[:,0] and eval(possible_box['bbox'])[1] in gt_bboxes.tensor[:,1]:\n",
    "                # save i\n",
    "                saving_index.append(i)\n",
    "    elif len(gt_bboxes)==len(im_bboxes):\n",
    "        # print(f'All indices are saved for image {im_name}')\n",
    "        saving_index.extend(im_bboxes.index)\n",
    "\n",
    "# save new dataframe\n",
    "new_bboxes_df = bbox_dataframe.loc[saving_index].reset_index(drop=True)\n",
    "\n",
    "# save\n",
    "path_new_bbox = repo_path / 'data/CDD-CESM/metadata/bboxes' / 'bbox_CESM_corrected.csv'\n",
    "new_bboxes_df.to_csv(path_new_bbox, index=False)"
   ]
  },
  {
   "cell_type": "markdown",
   "metadata": {},
   "source": [
    "After-correction statistics<br>\n",
    "As expected, this does not reduces the number of patient of images, just the number of bboxes."
   ]
  },
  {
   "cell_type": "code",
   "execution_count": 134,
   "metadata": {},
   "outputs": [
    {
     "name": "stdout",
     "output_type": "stream",
     "text": [
      "The original full mass-like lesions dataframe has 555 potential lesions.\n",
      "This represents a number of patients of 131\n",
      "This corresponds to a number of images of 243\n"
     ]
    }
   ],
   "source": [
    "print(f'The original full mass-like lesions dataframe has {new_bboxes_df.shape[0]} potential lesions.')\n",
    "print(f'This represents a number of patients of {new_bboxes_df[\"patient_id\"].nunique()}')\n",
    "print(f'This corresponds to a number of images of {new_bboxes_df[\"image_name\"].nunique()}')"
   ]
  }
 ],
 "metadata": {
  "kernelspec": {
   "display_name": "detectron-new",
   "language": "python",
   "name": "python3"
  },
  "language_info": {
   "codemirror_mode": {
    "name": "ipython",
    "version": 3
   },
   "file_extension": ".py",
   "mimetype": "text/x-python",
   "name": "python",
   "nbconvert_exporter": "python",
   "pygments_lexer": "ipython3",
   "version": "3.10.13"
  }
 },
 "nbformat": 4,
 "nbformat_minor": 2
}
