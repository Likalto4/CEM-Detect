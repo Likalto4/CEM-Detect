{
 "cells": [
  {
   "cell_type": "code",
   "execution_count": 1,
   "metadata": {},
   "outputs": [],
   "source": [
    "# add repo path to the system path\n",
    "from pathlib import Path\n",
    "import os, sys\n",
    "repo_path= Path.cwd().resolve()\n",
    "while '.gitignore' not in os.listdir(repo_path): # while not in the root of the repo\n",
    "    repo_path = repo_path.parent #go up one level\n",
    "sys.path.insert(0,str(repo_path)) if str(repo_path) not in sys.path else None\n",
    "\n",
    "os.environ['CUDA_DEVICE_ORDER']='PCI_BUS_ID'\n",
    "os.environ['CUDA_VISIBLE_DEVICES']='0'"
   ]
  },
  {
   "cell_type": "code",
   "execution_count": 4,
   "metadata": {},
   "outputs": [],
   "source": [
    "import numpy as np\n",
    "import cv2 as cv\n",
    "import pandas as pd\n",
    "from matplotlib import pyplot as plt\n",
    "\n",
    "from detection.inference.detector import lesion_detector, post_process_pred"
   ]
  },
  {
   "cell_type": "markdown",
   "metadata": {},
   "source": [
    "# Predict for test set"
   ]
  },
  {
   "cell_type": "code",
   "execution_count": 10,
   "metadata": {},
   "outputs": [
    {
     "name": "stdout",
     "output_type": "stream",
     "text": [
      "\u001b[32m[03/06 23:26:51 d2.checkpoint.detection_checkpoint]: \u001b[0m[DetectionCheckpointer] Loading from /home/ricardo/projects/CEM-Detect/detection/training/results/split_1/synthetic_improved/model_0029999.pth ...\n"
     ]
    },
    {
     "name": "stderr",
     "output_type": "stream",
     "text": [
      "/home/ricardo/miniconda3/envs/detectron-new/lib/python3.10/site-packages/torch/functional.py:507: UserWarning: torch.meshgrid: in an upcoming release, it will be required to pass the indexing argument. (Triggered internally at ../aten/src/ATen/native/TensorShape.cpp:3549.)\n",
      "  return _VF.meshgrid(tensors, **kwargs)  # type: ignore[attr-defined]\n"
     ]
    },
    {
     "name": "stdout",
     "output_type": "stream",
     "text": [
      "\u001b[32m[03/06 23:27:00 d2.checkpoint.detection_checkpoint]: \u001b[0m[DetectionCheckpointer] Loading from /home/ricardo/projects/CEM-Detect/detection/training/results/split_1/real-synth_improved/model_0019999.pth ...\n",
      "\u001b[32m[03/06 23:27:07 d2.checkpoint.detection_checkpoint]: \u001b[0m[DetectionCheckpointer] Loading from /home/ricardo/projects/CEM-Detect/detection/training/results/split_1/normal_fine-tuning/model_0024999.pth ...\n"
     ]
    }
   ],
   "source": [
    "#### inputs (editable)\n",
    "split_name = 'split_1'\n",
    "metric_name = 'AUFROC'\n",
    "####\n",
    "\n",
    "# model inputs\n",
    "config_file = repo_path / 'detection/training/config_files/fine_tuning_CEM.yaml'\n",
    "min_score = 0.1 # minimum score threshold to keep the prediction\n",
    "\n",
    "# validation data inputs\n",
    "im_dir = repo_path / 'data/CDD-CESM/images/substracted' # images directory (can contain other not only test)\n",
    "metadata_path = repo_path / 'data/CDD-CESM/metadata/bboxes/split_1/test_set.csv' # test data only\n",
    "\n",
    "# get best models of the split\n",
    "best_models_csv_path = repo_path / 'detection/evaluation/data/validation' / f'{split_name}/best_models/best_models_{metric_name}.csv'\n",
    "best_models_csv = pd.read_csv(best_models_csv_path)\n",
    "split_dir = repo_path / 'detection/training/results/split_1'\n",
    "\n",
    "# saving directory\n",
    "testing_split_dir = repo_path / 'detection/evaluation/data/testing' / f'{split_name}'\n",
    "testing_split_dir.mkdir(parents=True, exist_ok=True)\n",
    "\n",
    "for i, row in best_models_csv.iterrows():\n",
    "    model_path = split_dir / row['model_type'] / f'{row[\"model_name\"]}.pth'\n",
    "    detector = lesion_detector(config_file, model_path, metadata_path, im_dir, min_score)\n",
    "    detector.start_metrics()\n",
    "    for im_name in detector.test_df['image_name'].unique()[0:]:\n",
    "        detector.c_im_name = im_name\n",
    "        detector.prepare_im_gt()\n",
    "        detector.predict()\n",
    "        # detector.show_c_predictions()\n",
    "        # metrics computing\n",
    "        used_preds = detector.compute_TP_FN_counts(show=False)\n",
    "        detector.compute_FP_counts(used_preds)\n",
    "    froc_info  = detector.compute_FROC()\n",
    "    froc_info.to_csv(testing_split_dir / f'{row[\"model_type\"]}.csv', index=False)"
   ]
  },
  {
   "cell_type": "code",
   "execution_count": null,
   "metadata": {},
   "outputs": [],
   "source": []
  }
 ],
 "metadata": {
  "kernelspec": {
   "display_name": "detectron-new",
   "language": "python",
   "name": "python3"
  },
  "language_info": {
   "codemirror_mode": {
    "name": "ipython",
    "version": 3
   },
   "file_extension": ".py",
   "mimetype": "text/x-python",
   "name": "python",
   "nbconvert_exporter": "python",
   "pygments_lexer": "ipython3",
   "version": "3.10.13"
  }
 },
 "nbformat": 4,
 "nbformat_minor": 2
}
