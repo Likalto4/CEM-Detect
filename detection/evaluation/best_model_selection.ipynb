{
 "cells": [
  {
   "cell_type": "code",
   "execution_count": 1,
   "metadata": {},
   "outputs": [],
   "source": [
    "# add repo path to the system path\n",
    "from pathlib import Path\n",
    "import os, sys\n",
    "repo_path= Path.cwd().resolve()\n",
    "while '.gitignore' not in os.listdir(repo_path): # while not in the root of the repo\n",
    "    repo_path = repo_path.parent #go up one level\n",
    "sys.path.insert(0,str(repo_path)) if str(repo_path) not in sys.path else None\n",
    "\n",
    "os.environ['CUDA_DEVICE_ORDER']='PCI_BUS_ID'\n",
    "os.environ['CUDA_VISIBLE_DEVICES']='0'"
   ]
  },
  {
   "cell_type": "code",
   "execution_count": 2,
   "metadata": {},
   "outputs": [],
   "source": [
    "import numpy as np\n",
    "import cv2 as cv\n",
    "import pandas as pd\n",
    "from matplotlib import pyplot as plt\n",
    "from matplotlib import patches\n",
    "from detectron2.structures import pairwise_iou, boxes\n",
    "\n",
    "from detection.inference.detector import lesion_detector, post_process_pred"
   ]
  },
  {
   "cell_type": "markdown",
   "metadata": {},
   "source": [
    "# Validation phase\n",
    "- In this part we select the best model of each fine-tuned model and we validate it using the validation set."
   ]
  },
  {
   "cell_type": "code",
   "execution_count": 3,
   "metadata": {},
   "outputs": [],
   "source": [
    "## model inputs\n",
    "config_file = repo_path / 'detection/training/config_files/fine_tuning_CEM.yaml'\n",
    "min_score = 0.1 # minimum score threshold to keep the prediction\n",
    "\n",
    "## data inputs\n",
    "im_dir = repo_path / 'data/CDD-CESM/images/substracted' # images directory (can contain other not only test)\n",
    "metadata_path = repo_path / 'data/CDD-CESM/metadata/bboxes/split_1/val_set.csv' # val metadata (only val)"
   ]
  },
  {
   "cell_type": "code",
   "execution_count": 5,
   "metadata": {},
   "outputs": [
    {
     "name": "stdout",
     "output_type": "stream",
     "text": [
      "\u001b[32m[03/06 17:24:01 d2.checkpoint.detection_checkpoint]: \u001b[0m[DetectionCheckpointer] Loading from /home/ricardo/projects/CEM-Detect/data/models/model_final_R_101_omidb_30k_dbt9k_f12_gray.pth ...\n"
     ]
    },
    {
     "data": {
      "text/plain": [
       "<matplotlib.legend.Legend at 0x7f15670e5d50>"
      ]
     },
     "execution_count": 5,
     "metadata": {},
     "output_type": "execute_result"
    },
    {
     "data": {
      "image/png": "[encoded data removed]",
      "text/plain": [
       "<Figure size 600x600 with 1 Axes>"
      ]
     },
     "metadata": {},
     "output_type": "display_data"
    }
   ],
   "source": [
    "# define figure ot visualize curves\n",
    "fig, ax = plt.subplots(figsize=(6,6))\n",
    "ax.set_xlabel('FPRpI')\n",
    "ax.set_ylabel('TPR')\n",
    "ax.set_title('FROC curve')\n",
    "# set TPR limits\n",
    "ax.set_ylim(0,1)\n",
    "ax.set_xlim(0,1)\n",
    "\n",
    "model_list = ['data/models/model_final_R_101_omidb_30k_dbt9k_f12_gray.pth', # original DBT\n",
    "              \n",
    "\n",
    "]\n",
    "\n",
    "for model_file in model_list:\n",
    "\n",
    "    model_file = repo_path / model_file\n",
    "\n",
    "    detector = lesion_detector(config_file, model_file, metadata_path, im_dir, min_score)\n",
    "    detector.start_metrics()\n",
    "    for im_name in detector.test_df['image_name'].unique()[0:]:\n",
    "        detector.c_im_name = im_name\n",
    "        detector.prepare_im_gt()\n",
    "        detector.predict()\n",
    "        # detector.show_c_predictions()\n",
    "        # metrics computing\n",
    "        used_preds = detector.compute_TP_FN_counts(show=False)\n",
    "        detector.compute_FP_counts(used_preds)\n",
    "    froc_info  = detector.compute_FROC()\n",
    "\n",
    "    # smooth curve\n",
    "    ax.plot(froc_info['FPpI'], froc_info['TPR'], marker='', label=f'{model_file.parent.name}', linestyle='-', linewidth=1.5)\n",
    "    ax.legend()\n",
    "\n"
   ]
  },
  {
   "cell_type": "code",
   "execution_count": 20,
   "metadata": {},
   "outputs": [
    {
     "data": {
      "text/plain": [
       "[2]"
      ]
     },
     "execution_count": 20,
     "metadata": {},
     "output_type": "execute_result"
    }
   ],
   "source": [
    "pred_nums = np.where(detector.c_gt_pred_ious[2] >= 0.3)\n",
    "pred_nums[0].tolist()"
   ]
  },
  {
   "cell_type": "code",
   "execution_count": 12,
   "metadata": {},
   "outputs": [],
   "source": [
    "original_list = [0]\n",
    "\n",
    "array_trial = np.array([0,4])\n",
    "# to tuple\n",
    "tuple_trial = tuple(array_trial)\n",
    "# to list\n",
    "list_trial = list(tuple_trial)\n",
    "# list_trial = [element for element in tuple_trial]\n",
    "\n",
    "# # add the original list to the list_trial\n",
    "# original_list.extend(list_trial)\n",
    "# # remove repeted elements\n",
    "# original_list = list(set(original_list))\n",
    "# original_list"
   ]
  }
 ],
 "metadata": {
  "kernelspec": {
   "display_name": "detectron-new",
   "language": "python",
   "name": "python3"
  },
  "language_info": {
   "codemirror_mode": {
    "name": "ipython",
    "version": 3
   },
   "file_extension": ".py",
   "mimetype": "text/x-python",
   "name": "python",
   "nbconvert_exporter": "python",
   "pygments_lexer": "ipython3",
   "version": "3.10.13"
  }
 },
 "nbformat": 4,
 "nbformat_minor": 2
}
