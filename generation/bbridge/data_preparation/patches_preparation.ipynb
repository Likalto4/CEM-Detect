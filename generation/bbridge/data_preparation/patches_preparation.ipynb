{
 "cells": [
  {
   "cell_type": "code",
   "execution_count": 2,
   "metadata": {},
   "outputs": [],
   "source": [
    "from pathlib import Path\n",
    "import os, sys\n",
    "repo_path= Path.cwd().resolve()\n",
    "while '.gitignore' not in os.listdir(repo_path): # while not in the root of the repo\n",
    "    repo_path = repo_path.parent #go up one level\n",
    "sys.path.insert(0,str(repo_path)) if str(repo_path) not in sys.path else None\n",
    "exp_path = Path.cwd().resolve() # experiment path\n",
    "# visible GPUs\n",
    "os.environ[\"CUDA_DEVICE_ORDER\"]=\"PCI_BUS_ID\"\n",
    "os.environ[\"CUDA_VISIBLE_DEVICES\"]=\"0\""
   ]
  },
  {
   "cell_type": "code",
   "execution_count": 15,
   "metadata": {},
   "outputs": [],
   "source": [
    "import numpy as np\n",
    "import pandas as pd\n",
    "import cv2 as cv\n",
    "from PIL import Image"
   ]
  },
  {
   "cell_type": "markdown",
   "metadata": {},
   "source": [
    "The idea of the bridge is to generate high quality Mammo2CEm images training our pipeline using patches of the TRAINING images.<br>\n",
    "The patches will be 512x512."
   ]
  },
  {
   "cell_type": "code",
   "execution_count": 123,
   "metadata": {},
   "outputs": [],
   "source": [
    "train_metadata_path = repo_path / 'data/CDD-CESM/metadata/bboxes/split_1/train_set.csv'\n",
    "im_dir_CEM = repo_path / 'data/CDD-CESM/images/substracted'\n",
    "im_dir_low = repo_path / 'data/CDD-CESM/images/low-energy'\n",
    "train_metadata = pd.read_csv(train_metadata_path)\n",
    "\n",
    "# saving dir\n",
    "save_dir = repo_path / 'generation/bbridge/data/CEM-512/split_1/train'\n",
    "save_dir.mkdir(parents=True, exist_ok=True)"
   ]
  },
  {
   "cell_type": "code",
   "execution_count": 133,
   "metadata": {},
   "outputs": [
    {
     "name": "stdout",
     "output_type": "stream",
     "text": [
      "Original shape: (2620, 1657)\n",
      "Image from y:0 to y:512 and x:0 to x:512 is black: False\n"
     ]
    }
   ],
   "source": [
    "ex_im_path = im_dir_CEM / (train_metadata['image_name'][20] + '.jpg')\n",
    "low_im_path = im_dir_low / (ex_im_path.stem.replace('CM', 'DM') + '.jpg')\n",
    "\n",
    "\n",
    "# read the image\n",
    "ex_im = cv.imread(str(ex_im_path), cv.IMREAD_GRAYSCALE)\n",
    "low_im = cv.imread(str(low_im_path), cv.IMREAD_GRAYSCALE)\n",
    "print(f'Original shape: {ex_im.shape}')\n",
    "\n",
    "\n",
    "# create a subimage of 512x512, starting from the 0,0 corner\n",
    "i_y = 0\n",
    "i_x = 0\n",
    "y_shift = 512*i_y\n",
    "x_shift = 512*i_x\n",
    "\n",
    "from_y = 0+y_shift\n",
    "to_y = 512+y_shift\n",
    "from_x = 0+x_shift\n",
    "to_x = 512+x_shift\n",
    "\n",
    "if to_y > ex_im.shape[0]: # when to_y is too large (end of image)\n",
    "    to_complete_y = 512 - (ex_im.shape[0] - from_y)\n",
    "    to_y = ex_im.shape[0]\n",
    "\n",
    "    sub_im = np.zeros((512, 512), dtype=np.uint8)\n",
    "    # fill the subimage with the original image\n",
    "    sub_im[:to_y-from_y, :] = ex_im[from_y:to_y, from_x:to_x]\n",
    "    # replicate for low energy image\n",
    "    sub_low_im = np.zeros((512, 512), dtype=np.uint8)\n",
    "    sub_low_im[:to_y-from_y, :] = low_im[from_y:to_y, from_x:to_x]\n",
    "elif to_x > ex_im.shape[1]:\n",
    "    to_complete_x = 512 - (ex_im.shape[1] - from_x)\n",
    "    to_x = ex_im.shape[1]\n",
    "\n",
    "    sub_im = np.zeros((512, 512), dtype=np.uint8)\n",
    "    # fill the subimage with the original image\n",
    "    sub_im[:, :to_x-from_x] = ex_im[from_y:to_y, from_x:to_x]\n",
    "    # replicate for low energy image\n",
    "    sub_low_im = np.zeros((512, 512), dtype=np.uint8)\n",
    "    sub_low_im[:, :to_x-from_x] = low_im[from_y:to_y, from_x:to_x]\n",
    "\n",
    "else: # when limits are within the image\n",
    "    sub_im = ex_im[from_y:to_y, from_x:to_x]\n",
    "    sub_low_im = low_im[from_y:to_y, from_x:to_x]\n",
    "\n",
    "# if more than 30% of the image is black, then the image is considered black\n",
    "black = np.sum(sub_im == 0) / (512*512) > 0.7\n",
    "sub_im = Image.fromarray(sub_im)\n",
    "sub_low_im = Image.fromarray(sub_low_im)\n",
    "print(f'Image from y:{from_y} to y:{to_y} and x:{from_x} to x:{to_x} is black: {black}')\n",
    "# save image in the save_dir\n",
    "save_path = save_dir / 'B' / f'{ex_im_path.stem}_y{i_y}_x{i_x}.jpg'\n",
    "save_path.parent.mkdir(parents=True, exist_ok=True)\n",
    "sub_im.save(save_path)\n",
    "\n",
    "save_path_low = save_dir / 'A' / f'{low_im_path.stem}_y{i_y}_x{i_x}.jpg'\n",
    "save_path_low.parent.mkdir(parents=True, exist_ok=True)\n",
    "sub_low_im.save(save_path_low)\n"
   ]
  }
 ],
 "metadata": {
  "kernelspec": {
   "display_name": "detectron-new",
   "language": "python",
   "name": "python3"
  },
  "language_info": {
   "codemirror_mode": {
    "name": "ipython",
    "version": 3
   },
   "file_extension": ".py",
   "mimetype": "text/x-python",
   "name": "python",
   "nbconvert_exporter": "python",
   "pygments_lexer": "ipython3",
   "version": "3.10.13"
  }
 },
 "nbformat": 4,
 "nbformat_minor": 2
}
