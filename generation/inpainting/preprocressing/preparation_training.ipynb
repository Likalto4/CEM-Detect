{
 "cells": [
  {
   "cell_type": "code",
   "execution_count": 1,
   "metadata": {},
   "outputs": [],
   "source": [
    "# add repo path to the system path\n",
    "from pathlib import Path\n",
    "import os, sys\n",
    "repo_path= Path.cwd().resolve()\n",
    "while '.gitignore' not in os.listdir(repo_path): # while not in the root of the repo\n",
    "    repo_path = repo_path.parent #go up one level\n",
    "sys.path.insert(0,str(repo_path)) if str(repo_path) not in sys.path else None"
   ]
  },
  {
   "cell_type": "code",
   "execution_count": 48,
   "metadata": {},
   "outputs": [],
   "source": [
    "import pandas as pd\n",
    "import shutil"
   ]
  },
  {
   "cell_type": "markdown",
   "metadata": {},
   "source": [
    "We read the training dataset metadata file"
   ]
  },
  {
   "cell_type": "code",
   "execution_count": 46,
   "metadata": {},
   "outputs": [],
   "source": [
    "# paths\n",
    "closeup_im_dir = repo_path / 'data/CDD-CESM/masses_closeup/images/CEM-square_small_bbox'\n",
    "closeup_mask_dir = repo_path / 'data/CDD-CESM/masses_closeup/masks/CEM-square_small_bbox'\n",
    "training_path = repo_path / 'data/CDD-CESM/metadata/bboxes/split_1/train_set.csv'\n",
    "\n",
    "# save paths\n",
    "im_save_path = repo_path / 'generation/inpainting/data/training_set/closeups/images/split_1'\n",
    "mask_save_path = repo_path / 'generation/inpainting/data/training_set/closeups/masks/split_1'\n",
    "mask_save_path.mkdir(parents=True, exist_ok=True)"
   ]
  },
  {
   "cell_type": "code",
   "execution_count": 60,
   "metadata": {},
   "outputs": [
    {
     "name": "stdout",
     "output_type": "stream",
     "text": [
      "The total number of images in the closeup directory is 472\n"
     ]
    }
   ],
   "source": [
    "training_metadata = pd.read_csv(training_path)\n",
    "\n",
    "# get all paths in closeup_im_dir\n",
    "im_paths = [p for p in closeup_im_dir.glob('*.jpg')]\n",
    "print(f'The total number of images in the closeup directory is {len(im_paths)}')"
   ]
  },
  {
   "cell_type": "markdown",
   "metadata": {},
   "source": [
    "Create copy of the training dataset metadata file"
   ]
  },
  {
   "cell_type": "code",
   "execution_count": 73,
   "metadata": {},
   "outputs": [],
   "source": [
    "# # loop on path\n",
    "# for ex_path in im_paths:\n",
    "#     ex_im_name = ex_path.stem.rsplit('_',1)[0] # remove the region number\n",
    "#     # check if the exp_path is in the training set\n",
    "#     if ex_im_name in training_metadata[\"image_name\"].values: # if in the training set\n",
    "#         # make a copy in the save path\n",
    "#         shutil.copy(ex_path, im_save_path / ex_path.name)\n",
    "#         # same for the mask\n",
    "#         shutil.copy(closeup_mask_dir / (ex_path.stem + '.png'), mask_save_path / (ex_path.stem + '.png'))"
   ]
  },
  {
   "cell_type": "code",
   "execution_count": 74,
   "metadata": {},
   "outputs": [
    {
     "name": "stdout",
     "output_type": "stream",
     "text": [
      "The total number of images in the save directory is 343\n"
     ]
    }
   ],
   "source": [
    "# count number of elements in im_save_path\n",
    "print(f'The total number of images in the save directory is {len([p for p in im_save_path.glob(\"*.jpg\")])}')"
   ]
  }
 ],
 "metadata": {
  "kernelspec": {
   "display_name": "detectron-new",
   "language": "python",
   "name": "python3"
  },
  "language_info": {
   "codemirror_mode": {
    "name": "ipython",
    "version": 3
   },
   "file_extension": ".py",
   "mimetype": "text/x-python",
   "name": "python",
   "nbconvert_exporter": "python",
   "pygments_lexer": "ipython3",
   "version": "3.10.13"
  }
 },
 "nbformat": 4,
 "nbformat_minor": 2
}
