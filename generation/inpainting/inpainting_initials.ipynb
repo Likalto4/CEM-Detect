{
 "cells": [
  {
   "cell_type": "code",
   "execution_count": 1,
   "metadata": {},
   "outputs": [],
   "source": [
    "# add repo path to the system path\n",
    "from pathlib import Path\n",
    "import os, sys\n",
    "repo_path= Path.cwd().resolve()\n",
    "while '.gitignore' not in os.listdir(repo_path): # while not in the root of the repo\n",
    "    repo_path = repo_path.parent #go up one level\n",
    "sys.path.insert(0,str(repo_path)) if str(repo_path) not in sys.path else None\n",
    "\n",
    "os.environ['CUDA_DEVICE_ORDER']='PCI_BUS_ID'\n",
    "os.environ['CUDA_VISIBLE_DEVICES']='0'\n"
   ]
  },
  {
   "cell_type": "markdown",
   "metadata": {},
   "source": [
    "Inpainting lesions in a mammogram is challenging specially due to the size of the mammograms. <br>\n",
    "Stable diffusion pipelines usually require the images to be resized to a smaller size, which is not ideal for mammograms. <br>\n",
    "\n",
    "    Idea: What if we generate only in a small region of the mammogram and then paste it back to the original image? <br>\n",
    "        Pros:\n",
    "        - Keep the original size of the mammogram\n",
    "        - High quality lesions generated\n",
    "        Cons:\n",
    "        - The generated region may not be coherent with the rest of the image: SD-inpaiting has proven to slightly changethe rest of the image, but it may not be very important. <br>\n",
    "        - How do you select the region to inpaint? <br>"
   ]
  },
  {
   "cell_type": "markdown",
   "metadata": {},
   "source": [
    "# Region to inpaint\n",
    "Several options are available, all considering a 512x512 region to inpaint. <br>\n",
    "1. Centered-mass region: the lesion is always in the center and we just grow the region to 512x512. <br>\n",
    "    - May fail if the lesion is in the border of the mammogram (not enough space to grow the region)\n",
    "2. Random-mass-position region: the mass may be in whichever part of the inpainting regionn. <br>\n",
    "    - It also has to consider the case when the growing region is out of the mammogram. <br>\n",
    "\n",
    "    We will go for the random option, as it seems more general. <br>"
   ]
  },
  {
   "cell_type": "code",
   "execution_count": 50,
   "metadata": {},
   "outputs": [],
   "source": [
    "import cv2 as cv\n",
    "import matplotlib.pyplot as plt\n",
    "import numpy as np\n",
    "import pandas as pd"
   ]
  },
  {
   "cell_type": "markdown",
   "metadata": {},
   "source": [
    "We see that some image shave a greater size than the limit 512x512.<br>\n",
    "- Some cases are bbox of too large regions or not clear lesions.\n",
    "- This should not represent a problem, as the big lesions are relatively easy to detect.\n",
    "- We keep only the small lesions for the inpainting. <br>"
   ]
  },
  {
   "cell_type": "code",
   "execution_count": 49,
   "metadata": {},
   "outputs": [],
   "source": [
    "# show image and bbox\n",
    "def image_bbox(bbox_df, lesion_num, info_bbox):\n",
    "    \"\"\"show image and bbox\n",
    "\n",
    "    Args:\n",
    "        bbox_df (pd.DataFrame): dataframe with the bounding boxes\n",
    "        lesion_num (int): index of the lesion\n",
    "        info_bbox (tuple): (x, y, w, h) of the bounding box\n",
    "    \"\"\"\n",
    "    # show case\n",
    "    im = cv.imread(str(repo_path / 'data/CDD-CESM/images/substracted' / (bbox_df['image_name'][lesion_num] + '.jpg')))\n",
    "    x, y, w, h = info_bbox\n",
    "    plt.figure()\n",
    "    cv.rectangle(im, (x, y), (x+w, y+h), (0, 255, 0), 2)\n",
    "    plt.imshow(im)\n",
    "    plt.title(f'Width: {w}, Height: {h}')"
   ]
  },
  {
   "cell_type": "code",
   "execution_count": 48,
   "metadata": {},
   "outputs": [
    {
     "name": "stdout",
     "output_type": "stream",
     "text": [
      "Small lesions: 475, Bigger lesions: 119\n"
     ]
    }
   ],
   "source": [
    "# check the size of the lesions in general\n",
    "bbox_csv_path = repo_path  /'data/CDD-CESM/masks/bbox_CESM.csv'\n",
    "bbox_df = pd.read_csv(bbox_csv_path)\n",
    "\n",
    "small_count = 0\n",
    "bigger_count = 0\n",
    "show_limit = 20\n",
    "for lesion_num in range(len(bbox_df)):\n",
    "    info_bbox = eval(bbox_df['bbox'][lesion_num])\n",
    "    w, h = info_bbox[2], info_bbox[3]\n",
    "    \n",
    "    if w < 512 and h < 512:\n",
    "        small_count += 1\n",
    "        \n",
    "    elif w > 512 or h > 512:\n",
    "        bigger_count += 1\n",
    "        # if bigger_count < show_limit:\n",
    "            # image_bbox(bbox_df, lesion_num, info_bbox)\n",
    "\n",
    "print(f'Small lesions: {small_count}, Bigger lesions: {bigger_count}')"
   ]
  },
  {
   "cell_type": "markdown",
   "metadata": {},
   "source": [
    "We keep only the lesion regions smaller than 512 for the inpainting. <br>"
   ]
  },
  {
   "cell_type": "code",
   "execution_count": 61,
   "metadata": {},
   "outputs": [],
   "source": [
    "# check the size of the lesions in general\n",
    "bbox_csv_path = repo_path  /'data/CDD-CESM/masks/bbox_CESM.csv'\n",
    "bbox_df = pd.read_csv(bbox_csv_path)\n",
    "\n",
    "large_lesion_ids = []\n",
    "for row_num in range(len(bbox_df)):\n",
    "    row = bbox_df.iloc[row_num]\n",
    "    _, _, w, h = eval(row['bbox'])\n",
    "    if w > 512 or h > 512:\n",
    "        large_lesion_ids.append(row_num)\n",
    "# remove this rows\n",
    "bbox_small_df = bbox_df.drop(large_lesion_ids)\n",
    "bbox_small_df['patient_id'].unique().shape\n",
    "bbox_small_df.to_csv(repo_path / 'data/CDD-CESM/masks/bbox_small_masses.csv', index=False)"
   ]
  },
  {
   "cell_type": "markdown",
   "metadata": {},
   "source": [
    "# Expand bbox to be 512x512"
   ]
  },
  {
   "cell_type": "markdown",
   "metadata": {},
   "source": [
    "From the remaining lesions, we expand the bbox to be 512x512. <br>"
   ]
  },
  {
   "cell_type": "code",
   "execution_count": 64,
   "metadata": {},
   "outputs": [
    {
     "data": {
      "text/plain": [
       "patient_id                        2\n",
       "image_name               P2_R_CM_CC\n",
       "region_id                         0\n",
       "bbox          (536, 2083, 355, 307)\n",
       "Name: 0, dtype: object"
      ]
     },
     "execution_count": 64,
     "metadata": {},
     "output_type": "execute_result"
    }
   ],
   "source": [
    "bbox_small_df = pd.read_csv(repo_path / 'data/CDD-CESM/masks/bbox_small_masses.csv')\n",
    "# loop on rows\n",
    "ex_row = bbox_small_df.iloc[0]\n",
    "ex_row"
   ]
  }
 ],
 "metadata": {
  "kernelspec": {
   "display_name": "CEM-detectron",
   "language": "python",
   "name": "python3"
  },
  "language_info": {
   "codemirror_mode": {
    "name": "ipython",
    "version": 3
   },
   "file_extension": ".py",
   "mimetype": "text/x-python",
   "name": "python",
   "nbconvert_exporter": "python",
   "pygments_lexer": "ipython3",
   "version": "3.8.18"
  }
 },
 "nbformat": 4,
 "nbformat_minor": 2
}
