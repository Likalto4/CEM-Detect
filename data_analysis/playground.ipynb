{
 "cells": [
  {
   "cell_type": "code",
   "execution_count": 2,
   "metadata": {},
   "outputs": [],
   "source": [
    "#Add repo path to the system path\n",
    "from pathlib import Path\n",
    "import os, sys\n",
    "repo_path= Path.cwd().resolve()\n",
    "while '.gitignore' not in os.listdir(repo_path): # while not in the root of the repo\n",
    "    repo_path = repo_path.parent #go up one level\n",
    "sys.path.insert(0,str(repo_path)) if str(repo_path) not in sys.path else None"
   ]
  },
  {
   "cell_type": "code",
   "execution_count": 12,
   "metadata": {},
   "outputs": [],
   "source": [
    "from PIL import Image\n",
    "import numpy as np\n",
    "from tqdm import tqdm\n",
    "\n",
    "from torchvision.transforms import (\n",
    "    Compose,\n",
    "    Resize,\n",
    "    CenterCrop,\n",
    "    # InterpolationMode,\n",
    ")"
   ]
  },
  {
   "cell_type": "code",
   "execution_count": 13,
   "metadata": {},
   "outputs": [],
   "source": [
    "# lets cut the CDD dataset into 512x512 images\n",
    "\n",
    "# origin dir\n",
    "low_energy_dir = repo_path / 'data/CDD-CESM/images/low-energy'\n",
    "substracted_dir = repo_path / 'data/CDD-CESM/images/substracted' \n",
    "\n",
    "# destination dir\n",
    "low_energy_512_dir = repo_path / 'data/CDD-CESM_512' / 'low-energy'\n",
    "low_energy_512_dir.mkdir(parents=True, exist_ok=True)\n",
    "substracted_512_dir = repo_path / 'data/CDD-CESM_512' / 'substracted'\n",
    "substracted_512_dir.mkdir(parents=True, exist_ok=True)\n",
    "\n",
    "\n",
    "\n",
    "resolution = 512\n",
    "\n",
    "preprocess = Compose(\n",
    "    [ # classic squared aspect-preserved centered image\n",
    "        Resize(resolution),\n",
    "        CenterCrop(resolution), \n",
    "    ]\n",
    ")"
   ]
  },
  {
   "cell_type": "code",
   "execution_count": 14,
   "metadata": {},
   "outputs": [
    {
     "name": "stderr",
     "output_type": "stream",
     "text": [
      "100%|██████████| 1003/1003 [01:28<00:00, 11.30it/s]\n"
     ]
    }
   ],
   "source": [
    "# get paths of only jpg files\n",
    "low_energy_list = [x for x in low_energy_dir.glob('*.jpg') if x.is_file()]\n",
    "for img_path in tqdm(low_energy_list):\n",
    "    img = Image.open(img_path)\n",
    "    img = preprocess(img)\n",
    "    img.save(low_energy_512_dir / img_path.name)"
   ]
  }
 ],
 "metadata": {
  "kernelspec": {
   "display_name": "CEM-detectron",
   "language": "python",
   "name": "python3"
  },
  "language_info": {
   "codemirror_mode": {
    "name": "ipython",
    "version": 3
   },
   "file_extension": ".py",
   "mimetype": "text/x-python",
   "name": "python",
   "nbconvert_exporter": "python",
   "pygments_lexer": "ipython3",
   "version": "3.8.18"
  }
 },
 "nbformat": 4,
 "nbformat_minor": 2
}
