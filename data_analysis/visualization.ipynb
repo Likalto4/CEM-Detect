{
 "cells": [
  {
   "cell_type": "code",
   "execution_count": 1,
   "metadata": {},
   "outputs": [],
   "source": [
    "#Add repo path to the system path\n",
    "from pathlib import Path\n",
    "import os, sys\n",
    "repo_path= Path.cwd().resolve()\n",
    "while '.gitignore' not in os.listdir(repo_path): # while not in the root of the repo\n",
    "    repo_path = repo_path.parent #go up one level\n",
    "sys.path.insert(0,str(repo_path)) if str(repo_path) not in sys.path else None"
   ]
  },
  {
   "cell_type": "markdown",
   "metadata": {},
   "source": [
    "# CDD-CESM\n",
    "\n",
    "This dataset is an Egyptian dataset composed of 2006 images IN TOTAL, composed of low-energy and constrast-enhanced spectral mamography, aka dual energy.\n",
    "\n",
    "- 1003 low-energy images\n",
    "- 1003 CESM\n",
    "\n",
    "The number of patients is 326. Usually one patient has 8 images:\n",
    "- 4 images per modality\n",
    "    - 2 lateralities (L, R) and 2 views (CC, MLO)\n",
    "\n",
    "Nevertheless, there are some exceptions so the number of total images is not the total hypothetic maximum 2068.\n",
    "\n",
    "Besides the images we have:\n",
    "- ROI of the findings: coordinates of the geometrical figure (ellipse, poligon, etc.)\n",
    "- Biopsy results\n",
    "- finding type: mass, asymmetry, "
   ]
  },
  {
   "cell_type": "code",
   "execution_count": null,
   "metadata": {},
   "outputs": [],
   "source": []
  }
 ],
 "metadata": {
  "kernelspec": {
   "display_name": "cedm-budget",
   "language": "python",
   "name": "python3"
  },
  "language_info": {
   "codemirror_mode": {
    "name": "ipython",
    "version": 3
   },
   "file_extension": ".py",
   "mimetype": "text/x-python",
   "name": "python",
   "nbconvert_exporter": "python",
   "pygments_lexer": "ipython3",
   "version": "3.10.12"
  }
 },
 "nbformat": 4,
 "nbformat_minor": 2
}
