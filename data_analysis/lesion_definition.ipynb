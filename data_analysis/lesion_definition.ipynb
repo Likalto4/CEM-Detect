{
 "cells": [
  {
   "cell_type": "code",
   "execution_count": 1,
   "metadata": {},
   "outputs": [],
   "source": [
    "#Add repo path to the system path\n",
    "from pathlib import Path\n",
    "import os, sys\n",
    "repo_path= Path.cwd().resolve()\n",
    "while '.gitignore' not in os.listdir(repo_path): # while not in the root of the repo\n",
    "    repo_path = repo_path.parent #go up one level\n",
    "sys.path.insert(0,str(repo_path)) if str(repo_path) not in sys.path else None"
   ]
  },
  {
   "cell_type": "markdown",
   "metadata": {},
   "source": [
    "# Lesions to use"
   ]
  },
  {
   "cell_type": "markdown",
   "metadata": {},
   "source": [
    "We must define the bbox of the lesions to detect using the DBT model framework."
   ]
  },
  {
   "cell_type": "code",
   "execution_count": 2,
   "metadata": {},
   "outputs": [],
   "source": [
    "from utils import dataset_CDD_CESM, patient_CDD"
   ]
  },
  {
   "cell_type": "code",
   "execution_count": 3,
   "metadata": {},
   "outputs": [
    {
     "data": {
      "text/plain": [
       "CDD-CESM dataset with 326 patients\n",
       "Total images: 1003"
      ]
     },
     "execution_count": 3,
     "metadata": {},
     "output_type": "execute_result"
    }
   ],
   "source": [
    "mode = 'substracted'\n",
    "dataset = dataset_CDD_CESM(mode=mode)\n",
    "dataset"
   ]
  },
  {
   "cell_type": "code",
   "execution_count": 26,
   "metadata": {},
   "outputs": [
    {
     "name": "stdout",
     "output_type": "stream",
     "text": [
      "Pathology Classification/ Follow up\n",
      "Malignant    204\n",
      "Benign        51\n",
      "Number of patients with mass: 138\n"
     ]
    }
   ],
   "source": [
    "# exclude cases with 'non mass' tags\n",
    "meta_filterd = dataset.metadata[~dataset.metadata['Tags'].str.contains('non mass')]\n",
    "# filter to keep only casses with word 'mass' in the tags\n",
    "meta_filterd = meta_filterd[meta_filterd['Tags'].str.contains('mass')]\n",
    "print(meta_filterd['Pathology Classification/ Follow up'].value_counts().to_string())\n",
    "mass_patients = meta_filterd['Patient_ID'].unique()\n",
    "print(f'Number of patients with mass: {len(mass_patients)}')"
   ]
  },
  {
   "cell_type": "code",
   "execution_count": null,
   "metadata": {},
   "outputs": [],
   "source": []
  }
 ],
 "metadata": {
  "kernelspec": {
   "display_name": "CEM-detectron",
   "language": "python",
   "name": "python3"
  },
  "language_info": {
   "codemirror_mode": {
    "name": "ipython",
    "version": 3
   },
   "file_extension": ".py",
   "mimetype": "text/x-python",
   "name": "python",
   "nbconvert_exporter": "python",
   "pygments_lexer": "ipython3",
   "version": "3.8.18"
  }
 },
 "nbformat": 4,
 "nbformat_minor": 2
}
